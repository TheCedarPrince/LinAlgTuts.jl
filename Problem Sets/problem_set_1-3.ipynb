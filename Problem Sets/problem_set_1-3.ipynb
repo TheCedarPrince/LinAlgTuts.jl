{
 "cells": [
  {
   "cell_type": "code",
   "execution_count": 1,
   "metadata": {},
   "outputs": [],
   "source": [
    "using LinearAlgebra\n",
    "using Plots\n",
    "using LaTeXStrings"
   ]
  },
  {
   "cell_type": "markdown",
   "metadata": {},
   "source": [
    "## Problem 2\n",
    "\n",
    "Putting this matrix equation into general terms, one gets a vector comprised of the following general elements that can be evaluated with the two different $y$'s:\n",
    "\n",
    "$\\begin{equation}\n",
    "\\left[\n",
    "\\begin{array}{ccc}\n",
    "y_{1} + 0 + 0 \\\\\n",
    "y_{1} + y_{2} + 0 \\\\\n",
    "y_{1} + y_{2} + y_{3} \\\\\n",
    "\\end{array}\n",
    "\\right]\n",
    "\\end{equation}$\n",
    "\n",
    "Solving for the first $y$ gives $y = (1, 1, 1)$ and the second $y$ gives $y = (1, 3, 5)$."
   ]
  },
  {
   "cell_type": "markdown",
   "metadata": {},
   "source": []
  },
  {
   "cell_type": "markdown",
   "metadata": {},
   "source": []
  },
  {
   "cell_type": "markdown",
   "metadata": {},
   "source": []
  },
  {
   "cell_type": "markdown",
   "metadata": {},
   "source": []
  },
  {
   "cell_type": "markdown",
   "metadata": {},
   "source": []
  }
 ],
 "metadata": {
  "kernelspec": {
   "display_name": "Julia 1.4.1",
   "language": "julia",
   "name": "julia-1.4"
  },
  "language_info": {
   "file_extension": ".jl",
   "mimetype": "application/julia",
   "name": "julia",
   "version": "1.4.1"
  }
 },
 "nbformat": 4,
 "nbformat_minor": 4
}
