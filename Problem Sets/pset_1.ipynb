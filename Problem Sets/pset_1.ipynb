{
 "cells": [
  {
   "cell_type": "code",
   "execution_count": 6,
   "metadata": {
    "jupyter": {
     "source_hidden": true
    }
   },
   "outputs": [],
   "source": [
    "using Plots;\n",
    "using LinearAlgebra;"
   ]
  },
  {
   "cell_type": "markdown",
   "metadata": {},
   "source": [
    "# **Section 1.2: Problem 23**\n",
    "\n",
    "**Problem:** The figure shows that $cos(\\alpha) = \\frac{v_{1}}{||v||}$ and $sin(\\alpha) =\n",
    "\\frac{v_{2}}{||v||}$. Similarly $cos(\\beta)$ is [...] and $sin(\\beta)$ is [...]. The angle $\\theta$ is $\\beta − \\alpha$. Substitute into the trigonometry formula $cos(\\alpha) cos(\\beta) + sin(\\beta)sin(\\alpha)$ for $cos(\\beta −\\alpha)$\n",
    "to find $cos(\\theta) = \\frac{v \\cdot w}{||v|| \\cdot ||w||}$.\n",
    "\n",
    "## Solution:\n",
    "\n",
    "![Problem 23 image](assets/001-homework-1-2_23.png)\n",
    "\n",
    "### Step 1: Find $cos(\\beta), \\ sin(\\beta)$\n",
    "\n",
    "1. $cos(\\beta) = \\frac{w_{1}}{||w||}, \\ sin(\\beta) = \\frac{w_{2}}{||w||}$\n",
    "\n",
    "### Step 2: Substitute knowns into $cos(\\alpha) cos(\\beta) + sin(\\beta)sin(\\alpha)$\n",
    "\n",
    "1. $\\frac{v_{1}}{||v||} \\frac{w_{1}}{||w||} + \\frac{v_{2}}{||v||} \\frac{w_{2}}{||w||} = cos(\\theta)$\n",
    "\n",
    "2. $\\frac{v_{1} w_{1} + v_{2} w_{2}}{||v|| \\ ||w||} = cos(\\theta)$\n",
    "\n",
    "### Step 3: Substitute Definition of Dot Product into Step 2\n",
    "\n",
    "**Definition:** $v \\cdot w = v_{1} w_{1} + v_{2} w_{2}$\n",
    "\n",
    "**Answer:** $\\frac{v \\cdot w}{||v|| \\cdot ||w||} = cos(\\theta)$"
   ]
  },
  {
   "cell_type": "markdown",
   "metadata": {},
   "source": [
    "# **Section 1.2: Problem 28**\n",
    "\n",
    "**Problem:** Can three vectors in the $xy$ plane have $u v < 0$ and $v w < 0$ and $u w < 0$?\n",
    "\n",
    "## Solution:\n",
    "\n",
    "**Answer:** Yes, this statement would be valid in this situation. When angle measurements between any of these two vectors are greater than $90^{\\circ}$, the dot product between any of these vectors must be negative. An example of a valid solution is as follows:"
   ]
  },
  {
   "cell_type": "code",
   "execution_count": 2,
   "metadata": {},
   "outputs": [],
   "source": [
    "u = [1.0, 0];"
   ]
  },
  {
   "cell_type": "code",
   "execution_count": 3,
   "metadata": {},
   "outputs": [],
   "source": [
    "v = [-1/2, sqrt(3)/2];"
   ]
  },
  {
   "cell_type": "code",
   "execution_count": 4,
   "metadata": {},
   "outputs": [],
   "source": [
    "w = [-1/2, -sqrt(3)/2];"
   ]
  },
  {
   "cell_type": "code",
   "execution_count": 5,
   "metadata": {},
   "outputs": [
    {
     "data": {
      "text/plain": [
       "true"
      ]
     },
     "execution_count": 5,
     "metadata": {},
     "output_type": "execute_result"
    }
   ],
   "source": [
    "# The last dot product had to be rounded due to floating point\n",
    "u ⋅ v == u ⋅ w == round(v ⋅ w, digits = 1)"
   ]
  },
  {
   "cell_type": "markdown",
   "metadata": {},
   "source": [
    "# **Section 1.3: Problem 4**\n",
    "\n",
    "Find a combination $x_{1}w_{1} + x_{2}w_{2} + x_{3}w_{3}$ that gives the zero vector:\n",
    "\n",
    "$ w_{1} = \\begin{equation}\n",
    "\\left[\n",
    "\\begin{array}{c}\n",
    "1 \\\\\n",
    "2 \\\\\n",
    "3 \\\\\n",
    "\\end{array}\n",
    "\\right]\n",
    "\\end{equation}$\n",
    "\n",
    "$w_{2} = \\begin{equation}\n",
    "\\left[\n",
    "\\begin{array}{c}\n",
    "4 \\\\\n",
    "5 \\\\\n",
    "6 \\\\\n",
    "\\end{array}\n",
    "\\right]\n",
    "\\end{equation}\n",
    "$\n",
    "\n",
    "$w_{3} = \\begin{equation}\n",
    "\\left[\n",
    "\\begin{array}{c}\n",
    "7 \\\\\n",
    "8 \\\\\n",
    "9 \\\\\n",
    "\\end{array}\n",
    "\\right]\n",
    "\\end{equation}$\n",
    "\n",
    "Those vectors are (independent)/(dependent). The three vectors lie in a [...]. The matrix $W$ with those columns is _not invertible_."
   ]
  },
  {
   "cell_type": "markdown",
   "metadata": {},
   "source": [
    "## Solution:\n",
    "\n",
    "$x_{1} = 1$, $x_{2} = -2$, and $x_{3} = 1$. Because these vectors can be summed together to form the zero vector, they are $dependent$ and lie in a $plane$."
   ]
  },
  {
   "cell_type": "markdown",
   "metadata": {},
   "source": [
    "# **Section 1.3: Problem 13**\n",
    "\n",
    "The very last words say that the $5$ by $5$ centered\n",
    "difference matrix is not invertible. Write down the $5$ equations $Cx = b$. Find a\n",
    "combination of left sides that gives zero. What combination of $b_{1}$, $b_{2}$, $b_{3}$, $b_{4}$, $b_{5}$ must be zero?"
   ]
  },
  {
   "cell_type": "markdown",
   "metadata": {},
   "source": [
    "## Solution\n",
    "\n",
    "The equations are given in the following matrix:\n",
    "\n",
    "$C = \\left[\n",
    "\\begin{array}{ccccc}\n",
    "0 & 1 & 0 & 0 & 0 \\\\\n",
    "-1 & 0 & 1 & 0 & 0 \\\\\n",
    "0 & -1 & 0 & 1 & 0 \\\\\n",
    "0 & 0 & -1 & 0 & 1 \\\\\n",
    "0 & 0 & 0 & -1 & 0 \\\\\n",
    "\\end{array}\n",
    "\\right]$\n",
    "\n",
    "Summing together $b_{1}$, $b_{3}$, $b_{5}$ yields the zero vector."
   ]
  },
  {
   "cell_type": "markdown",
   "metadata": {},
   "source": [
    "# **Section 2.1: Problem 29**\n",
    "\n",
    "Start with the vector $u_{0} = (1, 0)$. Multiply again and\n",
    "again by the same “Markov matrix” $A = [.8 .3; .2 .7]$. The next three vectors are\n",
    "$u_{1}, u_{2}, u_{3}$:\n",
    "\n",
    "$u_{1}=\\left[\\begin{array}{ll}.8 & .3 \\\\ .2 & .7\\end{array}\\right]\\left[\\begin{array}{l}1 \\\\ 0\\end{array}\\right]=\\left[\\begin{array}{l}.8 \\\\ .2\\end{array}\\right]$\n",
    "\n",
    "$u_{2} = Au_{1} = [...]$\n",
    "\n",
    "$u_{3} = Au_{2} = [...]$"
   ]
  },
  {
   "cell_type": "markdown",
   "metadata": {},
   "source": [
    "## Solution\n",
    "\n",
    "$u_{2} = \n",
    "\\left[\n",
    "\\begin{array}{c}\n",
    "0.7 \\\\\n",
    "0.3 \\\\\n",
    "\\end{array}\n",
    "\\right]$\n",
    "\n",
    "$u_{3} = \\left[\n",
    "\\begin{array}{c}\n",
    "0.65 \\\\\n",
    "0.35 \\\\\n",
    "\\end{array}\n",
    "\\right]$\n",
    "\n",
    "The product of the Markov Matrix times the input vector results in a vector which sums to one."
   ]
  }
 ],
 "metadata": {
  "kernelspec": {
   "display_name": "Julia 1.4.1",
   "language": "julia",
   "name": "julia-1.4"
  },
  "language_info": {
   "file_extension": ".jl",
   "mimetype": "application/julia",
   "name": "julia",
   "version": "1.4.1"
  }
 },
 "nbformat": 4,
 "nbformat_minor": 4
}
