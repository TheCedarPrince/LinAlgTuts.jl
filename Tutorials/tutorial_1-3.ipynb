{
 "cells": [
  {
   "cell_type": "code",
   "execution_count": 4,
   "metadata": {
    "jupyter": {
     "source_hidden": true
    }
   },
   "outputs": [],
   "source": [
    "using Plots\n",
    "using LaTeXStrings"
   ]
  },
  {
   "cell_type": "markdown",
   "metadata": {},
   "source": [
    "# **Section 1.3: Matrices**\n",
    "\n",
    "> **Description:** [TBD] \\\n",
    "> **Author:** Jacob S. Zelko \\\n",
    "> **Date:** June 29th, 2020 \n",
    "\n",
    "---"
   ]
  },
  {
   "cell_type": "markdown",
   "metadata": {},
   "source": [
    "## What is a Matrix?\n",
    "\n",
    "A **matrix** can be thought of as a rectangular representation of numbers which record the essential information of a linear system. [1]\n",
    "\n",
    "Given the vectors\n",
    "\n",
    "$u = \\left[\n",
    "\\begin{array}{c}\n",
    "1 \\\\\n",
    "-1 \\\\\n",
    "0 \\\\\n",
    "\\end{array}\n",
    "\\right], \\\n",
    "v = \\left[\n",
    "\\begin{array}{c}\n",
    "0 \\\\\n",
    "1 \\\\\n",
    "-1 \\\\\n",
    "\\end{array}\n",
    "\\right], \\\n",
    "w = \\left[\n",
    "\\begin{array}{c}\n",
    "0 \\\\\n",
    "0 \\\\\n",
    "1 \\\\\n",
    "\\end{array}\n",
    "\\right]$\n",
    "\n",
    "Their combination in three-dimensional space is $x_{1}u + x_{2}v + x_{3}w$. We know how to represent these via linear combination operations:\n",
    "\n",
    "$x_{1}\\left[\\begin{array}{r}1 \\\\ -1 \\\\ 0\\end{array}\\right]+x_{2}\\left[\\begin{array}{r}0 \\\\ 1 \\\\ -1\\end{array}\\right]+x_{3}\\left[\\begin{array}{l}0 \\\\ 0 \\\\ 1\\end{array}\\right]=\\left[\\begin{array}{l}x_{1} \\\\ x_{2}-x_{1} \\\\ x_{3}-x_{2}\\end{array}\\right]$\n",
    "\n",
    "One can combine them together in such a way as to make a matrix:\n",
    "\n",
    "$A = \\left[\n",
    "\\begin{array}{ccc}\n",
    "1 & 0 & 0 \\\\\n",
    "-1 & 1 & 0 \\\\\n",
    "0 & -1 & 1 \\\\\n",
    "\\end{array}\n",
    "\\right]$\n",
    "\n",
    "This combination of vectors is reasonable as recalling from Section 1.1, a vector is simply a slice of a matrix. Up until now, we have been studying vectors in isolation away from matricies. But no more!\n",
    "\n",
    "Matrix $A$ does not actually tell the entire story of what is going on. "
   ]
  },
  {
   "cell_type": "markdown",
   "metadata": {},
   "source": []
  },
  {
   "cell_type": "code",
   "execution_count": null,
   "metadata": {},
   "outputs": [],
   "source": []
  },
  {
   "cell_type": "code",
   "execution_count": null,
   "metadata": {},
   "outputs": [],
   "source": []
  },
  {
   "cell_type": "markdown",
   "metadata": {},
   "source": [
    "## References:\n",
    "\n",
    "[1] D. C. Lay, “Linear Algebra and its applications 5th edition,” 2016."
   ]
  }
 ],
 "metadata": {
  "kernelspec": {
   "display_name": "Julia 1.4.1",
   "language": "julia",
   "name": "julia-1.4"
  },
  "language_info": {
   "file_extension": ".jl",
   "mimetype": "application/julia",
   "name": "julia",
   "version": "1.4.1"
  }
 },
 "nbformat": 4,
 "nbformat_minor": 4
}
