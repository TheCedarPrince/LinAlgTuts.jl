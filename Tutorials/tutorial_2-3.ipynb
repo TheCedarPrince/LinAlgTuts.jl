{
 "cells": [
  {
   "cell_type": "code",
   "execution_count": 1,
   "metadata": {
    "jupyter": {
     "source_hidden": true
    }
   },
   "outputs": [],
   "source": [
    "using Plots\n",
    "using LaTeXStrings"
   ]
  },
  {
   "cell_type": "code",
   "execution_count": 2,
   "metadata": {
    "jupyter": {
     "source_hidden": true
    }
   },
   "outputs": [],
   "source": [
    "y(x, x_1, y_1, x_2, y_2) = x .* (y_2 - y_1) ./ (x_2 - x_1) .- x_1 .* (y_2 - y_1) ./ (x_2 - x_1) .+ y_1;"
   ]
  },
  {
   "cell_type": "markdown",
   "metadata": {},
   "source": [
    "# **Section 2.3: Elimination Using Matrices**\n",
    "\n",
    "> **Description:** [TBD]. \\\n",
    "> **Author:** Jacob S. Zelko \\\n",
    "> **Date:** July 13th, 2020 \n",
    "\n",
    "---"
   ]
  },
  {
   "cell_type": "markdown",
   "metadata": {},
   "source": [
    "## Types of Matrices\n",
    "\n",
    "### Identity Matrix (I)\n",
    "\n",
    "An identity matrix, $I$, contains only 1's on the diagnonal of the matrix (the pivots) and otherwise 0's.\n",
    "\n",
    "$I = \\left[\n",
    "\\begin{array}{ccc}\n",
    "1 & 0 & 0 \\\\\n",
    "0 & 1 & 0 \\\\\n",
    "0 & 0 & 1 \\\\\n",
    "\\end{array}\n",
    "\\right]$\n",
    "\n",
    "If one were to multiply the identity matrix by a vector, the result would be the original vector. An example would be:\n",
    "\n",
    "$I = \\left[\n",
    "\\begin{array}{ccc}\n",
    "1 & 0 & 0 \\\\\n",
    "0 & 1 & 0 \\\\\n",
    "0 & 0 & 1 \\\\\n",
    "\\end{array}\n",
    "\\right] \\ \n",
    "\\left[\n",
    "\\begin{array}{c}\n",
    "1 \\\\\n",
    "3 \\\\\n",
    "9 \\\\\n",
    "\\end{array}\n",
    "\\right] = \n",
    "\\left[\n",
    "\\begin{array}{c}\n",
    "1 \\\\\n",
    "3 \\\\\n",
    "9 \\\\\n",
    "\\end{array}\n",
    "\\right]$\n",
    "\n",
    "This characteristic persists for any vector."
   ]
  },
  {
   "cell_type": "markdown",
   "metadata": {},
   "source": [
    "### Elimination Matrix/Elementary Matrix (E)\n",
    "\n",
    "An Elimination Matrix (also known as an Elementary Matrix) is a matrix that is obtained by performing a single row operation. These come in three general forms:\n",
    "\n",
    "$ E_{1} = \n",
    "\\left[\n",
    "\\begin{array}{ccc}\n",
    "1 & 0 & 0 \\\\\n",
    "0 & 1 & 0 \\\\\n",
    "-n & 0 & 1 \\\\\n",
    "\\end{array}\n",
    "\\right]$\n",
    "\n",
    "Here, $-n$ represents any random number in $E_{1}$ where the identity matrix can be easily obtained by adding $n$ times row one to row three.\n",
    "\n",
    "$ E_{2} = \n",
    "\\left[\n",
    "\\begin{array}{ccc}\n",
    "0 & 1 & 0 \\\\\n",
    "1 & 0 & 0 \\\\\n",
    "0 & 0 & 1 \\\\\n",
    "\\end{array}\n",
    "\\right]$\n",
    "\n",
    "In this scenario, each row of $E_{2}$ is reduced to its simplest form but it is not in a diagonal form. Switch row 1 and row 2 produce an identity matrix.\n",
    "\n",
    "$ E_{3} = \n",
    "\\left[\n",
    "\\begin{array}{ccc}\n",
    "1 & 0 & 0 \\\\\n",
    "0 & 1 & 0 \\\\\n",
    "0 & 0 & n \\\\\n",
    "\\end{array}\n",
    "\\right]$\n",
    "\n",
    "Here, a simple division in the third row of $E_{3}$ by $n$ results in the identity matrix."
   ]
  },
  {
   "cell_type": "markdown",
   "metadata": {},
   "source": [
    "## Matrix Multiplication"
   ]
  },
  {
   "cell_type": "markdown",
   "metadata": {},
   "source": [
    "Left off on page 61"
   ]
  }
 ],
 "metadata": {
  "kernelspec": {
   "display_name": "Julia 1.4.1",
   "language": "julia",
   "name": "julia-1.4"
  },
  "language_info": {
   "file_extension": ".jl",
   "mimetype": "application/julia",
   "name": "julia",
   "version": "1.4.1"
  }
 },
 "nbformat": 4,
 "nbformat_minor": 4
}
