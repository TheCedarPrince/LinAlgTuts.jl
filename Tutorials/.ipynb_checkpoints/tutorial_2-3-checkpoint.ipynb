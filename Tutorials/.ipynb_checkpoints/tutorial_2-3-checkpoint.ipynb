{
 "cells": [
  {
   "cell_type": "code",
   "execution_count": 1,
   "metadata": {
    "jupyter": {
     "source_hidden": true
    }
   },
   "outputs": [],
   "source": [
    "using Plots\n",
    "using LaTeXStrings"
   ]
  },
  {
   "cell_type": "code",
   "execution_count": 2,
   "metadata": {
    "jupyter": {
     "source_hidden": true
    }
   },
   "outputs": [],
   "source": [
    "y(x, x_1, y_1, x_2, y_2) = x .* (y_2 - y_1) ./ (x_2 - x_1) .- x_1 .* (y_2 - y_1) ./ (x_2 - x_1) .+ y_1;"
   ]
  },
  {
   "cell_type": "markdown",
   "metadata": {},
   "source": [
    "# **Section 2.3: Elimination Using Matrices**\n",
    "\n",
    "> **Description:** An overview of the matrix multiplication operation and the various kinds of matrices. \\\n",
    "> **Author:** Jacob S. Zelko \\\n",
    "> **Date:** July 13th, 2020 \n",
    "\n",
    "---"
   ]
  },
  {
   "cell_type": "markdown",
   "metadata": {},
   "source": [
    "## Types of Matrices\n",
    "\n",
    "### Identity Matrix (I)\n",
    "\n",
    "An identity matrix, $I$, contains only 1's on the diagnonal of the matrix (the pivots) and otherwise 0's.\n",
    "\n",
    "$I = \\left[\n",
    "\\begin{array}{ccc}\n",
    "1 & 0 & 0 \\\\\n",
    "0 & 1 & 0 \\\\\n",
    "0 & 0 & 1 \\\\\n",
    "\\end{array}\n",
    "\\right]$\n",
    "\n",
    "If one were to multiply the identity matrix by a vector, the result would be the original vector. An example would be:\n",
    "\n",
    "$I = \\left[\n",
    "\\begin{array}{ccc}\n",
    "1 & 0 & 0 \\\\\n",
    "0 & 1 & 0 \\\\\n",
    "0 & 0 & 1 \\\\\n",
    "\\end{array}\n",
    "\\right] \\ \n",
    "\\left[\n",
    "\\begin{array}{c}\n",
    "1 \\\\\n",
    "3 \\\\\n",
    "9 \\\\\n",
    "\\end{array}\n",
    "\\right] = \n",
    "\\left[\n",
    "\\begin{array}{c}\n",
    "1 \\\\\n",
    "3 \\\\\n",
    "9 \\\\\n",
    "\\end{array}\n",
    "\\right]$\n",
    "\n",
    "This characteristic persists for any vector."
   ]
  },
  {
   "cell_type": "markdown",
   "metadata": {},
   "source": [
    "### Augmented Matrix\n",
    "\n",
    "An augmented matrix is based around the fundamental matrix equation $Ax = b$. As row operations act on an entire equation in a matrix $A$, an augmented matrix includes the output of the equation, $b$, but not the input vector $x$.\n",
    "\n",
    "For example, given the following:\n",
    "\n",
    "$A = \\left[\n",
    "\\begin{array}{cc}\n",
    "3 & 4 \\\\\n",
    "5 & 6 \\\\\n",
    "\\end{array}\n",
    "\\right], \\\n",
    "b = \\left[\n",
    "\\begin{array}{c}\n",
    "10 \\\\\n",
    "16 \\\\\n",
    "\\end{array}\n",
    "\\right]$\n",
    "\n",
    "the augmented matrix would be:\n",
    "\n",
    "$\\left[\n",
    "\\begin{array}{cc|c}\n",
    "3 & 4 & 10 \\\\\n",
    "5 & 6 & 16 \\\\\n",
    "\\end{array}\n",
    "\\right]$\n",
    "\n",
    "The bar is inserted to represent which values in the matrix are the output of the system of equations."
   ]
  },
  {
   "cell_type": "markdown",
   "metadata": {},
   "source": [
    "### Elimination Matrix/Elementary Matrix (E)\n",
    "\n",
    "An Elimination Matrix (also known as an Elementary Matrix) is a matrix that is obtained by performing a single row operation. [1] These come in three general forms:\n",
    "\n",
    "$ E_{1} = \n",
    "\\left[\n",
    "\\begin{array}{ccc}\n",
    "1 & 0 & 0 \\\\\n",
    "0 & 1 & 0 \\\\\n",
    "-n & 0 & 1 \\\\\n",
    "\\end{array}\n",
    "\\right]$\n",
    "\n",
    "Here, $-n$ represents any random number in $E_{1}$ where the identity matrix can be easily obtained by adding $n$ times row one to row three.\n",
    "\n",
    "$ E_{2} = \n",
    "\\left[\n",
    "\\begin{array}{ccc}\n",
    "0 & 1 & 0 \\\\\n",
    "1 & 0 & 0 \\\\\n",
    "0 & 0 & 1 \\\\\n",
    "\\end{array}\n",
    "\\right]$\n",
    "\n",
    "In this scenario, each row of $E_{2}$ is reduced to its simplest form but it is not in a diagonal form. Switch row 1 and row 2 produce an identity matrix.\n",
    "\n",
    "$ E_{3} = \n",
    "\\left[\n",
    "\\begin{array}{ccc}\n",
    "1 & 0 & 0 \\\\\n",
    "0 & 1 & 0 \\\\\n",
    "0 & 0 & n \\\\\n",
    "\\end{array}\n",
    "\\right]$\n",
    "\n",
    "Here, a simple division in the third row of $E_{3}$ by $n$ results in the identity matrix."
   ]
  },
  {
   "cell_type": "markdown",
   "metadata": {},
   "source": [
    "## Matrix Multiplication"
   ]
  },
  {
   "cell_type": "markdown",
   "metadata": {},
   "source": [
    "$A$ is an $m \\times n$ matrix and $C$ is an $n \\times p$ matrix. Multiplying these two matrices together to produce $AC$  yields a matrix of the shape $m \\times p$. Each entry in $AC$ is denoted with a row as $j$, and a column as $k$.\n",
    "\n",
    "Generalizing these terms in a mathematical expression produces the following equation for determining the product of two matrices:\n",
    "\n",
    "(1) $ \\ (A C)_{j, k}=\\sum_{r=1}^{n} A_{j, r} C_{r, k}$\n",
    "\n",
    "Each element of $AC$ is computed by taking row $j$ of $A$ and column $k$ of $C$, multiplying corresponding entries, and finally summing these products for the final element of $AC$. [2]"
   ]
  },
  {
   "cell_type": "markdown",
   "metadata": {},
   "source": [
    "### Properties of Matrix Multiplication\n",
    "\n",
    "It should be noted that when multiplying matrices together, not all algebraic operations hold true. If given three matrices $A$, $B$, and $C$, the following statements hold:\n",
    "\n",
    "1. $A(BC) = (AB)C$\n",
    "2. $AB \\neq BA$\n",
    "\n",
    "As such the associative property found in generic algebraic equations hold true. However, unlike in standard algebra, the commutative rule does not guarantee to be true (generally, it is not)."
   ]
  },
  {
   "cell_type": "markdown",
   "metadata": {},
   "source": [
    "### Example\n",
    "\n",
    "Given two matrices, find their product, $AB$:\n",
    "\n",
    "$A = \\left[\n",
    "\\begin{array}{cc}\n",
    "5 & 1 \\\\\n",
    "3 & -2 \\\\\n",
    "\\end{array}\n",
    "\\right], \\ \n",
    "B = \\left[\n",
    "\\begin{array}{cc}\n",
    "2 & 0 \\\\\n",
    "4 & 3 \\\\\n",
    "\\end{array}\n",
    "\\right]$"
   ]
  },
  {
   "cell_type": "markdown",
   "metadata": {},
   "source": [
    "Using equation (1), one can evaluate this problem as follows:\n",
    "\n",
    "$(AB)_{1, 1} =\n",
    "\\left[\n",
    "\\begin{array}{cc}\n",
    "5 & 1 \\\\\n",
    "\\end{array}\n",
    "\\right]\n",
    "\\left[\n",
    "\\begin{array}{c}\n",
    "2 \\\\\n",
    "4 \\\\\n",
    "\\end{array}\n",
    "\\right] = \n",
    "(5 \\cdot 2 + 1 \\cdot 4)\n",
    "= 14$\n",
    "\n",
    "$(AB)_{1, 2} =\n",
    "\\left[\n",
    "\\begin{array}{cc}\n",
    "5 & 1 \\\\\n",
    "\\end{array}\n",
    "\\right]\n",
    "\\left[\n",
    "\\begin{array}{c}\n",
    "0 \\\\\n",
    "3 \\\\\n",
    "\\end{array}\n",
    "\\right] = \n",
    "(5 \\cdot 0 + 1 \\cdot 3)\n",
    "= 3$\n",
    "\n",
    "$(AB)_{2, 1} =\n",
    "\\left[\n",
    "\\begin{array}{cc}\n",
    "3 & -2 \\\\\n",
    "\\end{array}\n",
    "\\right]\n",
    "\\left[\n",
    "\\begin{array}{c}\n",
    "2 \\\\\n",
    "4 \\\\\n",
    "\\end{array}\n",
    "\\right] = \n",
    "(3 \\cdot 2 + -2 \\cdot 4)\n",
    "= -2$\n",
    "\n",
    "$(AB)_{2, 2} =\n",
    "\\left[\n",
    "\\begin{array}{cc}\n",
    "3 & -2 \\\\\n",
    "\\end{array}\n",
    "\\right]\n",
    "\\left[\n",
    "\\begin{array}{c}\n",
    "0 \\\\\n",
    "3 \\\\\n",
    "\\end{array}\n",
    "\\right] = \n",
    "(3 \\cdot 0 + -2 \\cdot 3)\n",
    "= -6$"
   ]
  },
  {
   "cell_type": "markdown",
   "metadata": {},
   "source": [
    "Finally, putting these outputs into a matrix form, one gets the following result from the previous calculations:\n",
    "\n",
    "$\\left[\n",
    "\\begin{array}{cc}\n",
    "5 & 1 \\\\\n",
    "3 & -2 \\\\\n",
    "\\end{array}\n",
    "\\right] \\\n",
    "\\left[\n",
    "\\begin{array}{cc}\n",
    "2 & 0 \\\\\n",
    "4 & 3 \\\\\n",
    "\\end{array}\n",
    "\\right] = \n",
    "\\left[\n",
    "\\begin{array}{cc}\n",
    "14 & 3 \\\\\n",
    "-2 & -6 \\\\\n",
    "\\end{array}\n",
    "\\right]$\n",
    "\n",
    "\n"
   ]
  },
  {
   "cell_type": "markdown",
   "metadata": {},
   "source": [
    "## References:\n",
    "\n",
    "[1] D. C. Lay, “Linear Algebra and its applications 5th edition,” 2016.\n",
    "\n",
    "[2] S. Axler, Linear algebra done right. Springer, 2015."
   ]
  }
 ],
 "metadata": {
  "kernelspec": {
   "display_name": "Julia 1.4.1",
   "language": "julia",
   "name": "julia-1.4"
  },
  "language_info": {
   "file_extension": ".jl",
   "mimetype": "application/julia",
   "name": "julia",
   "version": "1.4.1"
  }
 },
 "nbformat": 4,
 "nbformat_minor": 4
}
