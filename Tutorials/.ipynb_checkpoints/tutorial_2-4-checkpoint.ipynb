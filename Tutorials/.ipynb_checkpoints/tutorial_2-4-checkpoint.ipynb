{
 "cells": [
  {
   "cell_type": "code",
   "execution_count": 1,
   "metadata": {
    "jupyter": {
     "source_hidden": true
    }
   },
   "outputs": [],
   "source": [
    "using Plots\n",
    "using LaTeXStrings"
   ]
  },
  {
   "cell_type": "code",
   "execution_count": 2,
   "metadata": {
    "jupyter": {
     "source_hidden": true
    }
   },
   "outputs": [],
   "source": [
    "y(x, x_1, y_1, x_2, y_2) = x .* (y_2 - y_1) ./ (x_2 - x_1) .- x_1 .* (y_2 - y_1) ./ (x_2 - x_1) .+ y_1;"
   ]
  },
  {
   "cell_type": "markdown",
   "metadata": {},
   "source": [
    "# **Section 2.4: Rules for Matrix Operations**\n",
    "\n",
    "> **Description:** A further exploration of how to conduct matrix multiplication. \\\n",
    "> **Author:** Jacob S. Zelko \\\n",
    "> **Date:** July 20th, 2020 \n",
    "\n",
    "---"
   ]
  },
  {
   "cell_type": "markdown",
   "metadata": {},
   "source": [
    "## Properties of Matrix Multiplication Re-examined\n",
    "\n",
    "To multiply two matrices, $A$ and $B$, it is required that:\n",
    "\n",
    "> If $A$ has $n$ columns, $B$ must have $n$ rows\n",
    "\n",
    "One may recall a brief subsection from the prior section ([Section 2.3](tutorial_2-3.ipynb)) discussing some properties of matrix multiplication. Let us expand upon those properties further.\n",
    "\n",
    "The Fundamental Law of Matrix Multiplication states that given three matrices $A$, $B$, and $C$,\n",
    "\n",
    "> $AB$ times $C$ equals $A$ times $BC$\n",
    "\n",
    "This gives rise to laws that matrices follow. If given three matrices $A$, $B$, and $C$, and the scalar $\\alpha$ the following laws hold valid:\n",
    "\n",
    "1. $A + B = B + A$ (Commutative Law)\n",
    "2. $\\alpha (A + B) = \\alpha A + \\alpha B$ (Distributive Law)\n",
    "3. $A + (B + C) = (A + B) + C$ (Associative Law)\n",
    "\n",
    "One may recognize these laws from standard algebra. That is intentional as there is substantial overlap between standard algebra and linear algebra. Furthermore, there are three additional laws derived from the prior laws that must be discussed:\n",
    "\n",
    "1. $A (B + C) = AB + AC$ (Distributive Law from the Left)\n",
    "2. $(A + B)C = AC + BC$ (Distributive Law for the Right)\n",
    "3. $A(BC) = (AB)C$ (Associative Law for $ABC$)\n",
    "\n",
    "One crucial aspect of the multiplication properties is that the Commutative Law does not often hold true (i.e. $AB \\neq BA$)."
   ]
  },
  {
   "cell_type": "markdown",
   "metadata": {},
   "source": [
    "## Additional Properties of Matrices\n",
    "\n",
    "Aside from standard algebra methods, one additional set of rules that apply to matrices are power rules. This means that for a given matrix $A$:\n",
    "\n",
    "$(A^{p})(A^{q}) = A^{p + q}$"
   ]
  }
 ],
 "metadata": {
  "kernelspec": {
   "display_name": "Julia 1.4.1",
   "language": "julia",
   "name": "julia-1.4"
  },
  "language_info": {
   "file_extension": ".jl",
   "mimetype": "application/julia",
   "name": "julia",
   "version": "1.4.1"
  }
 },
 "nbformat": 4,
 "nbformat_minor": 4
}
