{
 "cells": [
  {
   "cell_type": "code",
   "execution_count": 1,
   "metadata": {
    "jupyter": {
     "source_hidden": true
    }
   },
   "outputs": [],
   "source": [
    "using Plots\n",
    "using LaTeXStrings"
   ]
  },
  {
   "cell_type": "code",
   "execution_count": 2,
   "metadata": {
    "jupyter": {
     "source_hidden": true
    }
   },
   "outputs": [],
   "source": [
    "y(x, x_1, y_1, x_2, y_2) = x .* (y_2 - y_1) ./ (x_2 - x_1) .- x_1 .* (y_2 - y_1) ./ (x_2 - x_1) .+ y_1;"
   ]
  },
  {
   "cell_type": "markdown",
   "metadata": {},
   "source": [
    "# **Section 2.5: Inverse Matrices**\n",
    "\n",
    "> **Description:** [TBD]. \\\n",
    "> **Author:** Jacob S. Zelko \\\n",
    "> **Date:** July 20th, 2020 \n",
    "\n",
    "---"
   ]
  },
  {
   "cell_type": "markdown",
   "metadata": {},
   "source": [
    "## What Is An Inverse Matrix?\n",
    "\n",
    "Let $A$ be a square matrix. An inverse matrix, $A^{-1}$ can loosely be thought of as a matrix which _undoes_ whatever $A$ does. Before addressing an inverse matrix, it is useful to re-examine what an inverse is.\n",
    "\n",
    "If given a scalar value $\\alpha$, then the inverse of that value is $\\frac{1}{\\alpha}$. If one were to multiply $\\alpha$ by its inverse $\\frac{1}{\\alpha}$, then that product is $1$:\n",
    "\n",
    "$\\alpha \\cdot \\frac{1}{\\alpha} = 1$\n",
    "\n",
    "An inverse matrix is really no different. Rather, instead of their product being the scalar value $1$, it is an identity matrix (see [Section 2-3](tutorial_2-3.ipynb) on identity matrices). \n",
    "\n",
    "$A^{1}\\cdot A = I$ and $A \\cdot A^{-1} = I$\n",
    "\n",
    "However, there is a fundamental truth underlying matrices and inverses:\n",
    "\n",
    "> **Not all matrices have inverses.**"
   ]
  },
  {
   "cell_type": "markdown",
   "metadata": {},
   "source": [
    "## Requirements for an Inverse Matrix to Exist\n",
    "\n",
    "Given a square matrix $A$ (i.e. $n$ columns and $n$ rows), the following terms apply to determine the existence of an inverse matrix:\n",
    "\n",
    "1. An inverse for $A$ exists if and only if matrix elimination on $A$ produces $n$ pivots\n",
    "\n",
    "2. $A$ cannot have two different inverses. \n",
    "\n",
    "3. If there exists $A^{1}$ for $A$, then the only solution to $Ax = b$ is $x = A^{-1}b$.\n",
    "\n",
    "4. If there exists $A^{-1}$, then $Ax = 0$ can only have the zero solution $x = A^{-1}0 = 0$\n",
    "\n",
    "5. A $2 \\times 2$ matrix is invertible if and only if $ad - bc$ is non-zero in the equation:\n",
    "\n",
    "$\\left[\n",
    "\\begin{array}{cc}\n",
    "a & b \\\\\n",
    "c & d \\\\\n",
    "\\end{array}\n",
    "\\right]^{-1} =\n",
    "\\frac{1}{ad - bc}\n",
    "\\left[\n",
    "\\begin{array}{cc}\n",
    "d & -b \\\\\n",
    "-c & a \\\\\n",
    "\\end{array}\n",
    "\\right]$"
   ]
  },
  {
   "cell_type": "markdown",
   "metadata": {},
   "source": [
    "## Finding the Inverse of a Matrix Product\n",
    "\n",
    "Given two square matrices of the same size, $A$ and $B$, one can calculate the inverse of its product. However, the following criteria must be met:\n",
    "\n",
    "1. $A$ and $B$ must be separately invertible\n",
    "2. $A$ and $B$ must be the same size\n",
    "\n",
    "Based on these criteria, the inverse of a matrix product can be defined as this:\n",
    "\n",
    "$(AB)^{-1} = B^{-1}A^{-1}$\n",
    "\n",
    "The reason for this can be seen implicitly from the problem:\n",
    "\n",
    "$(AB)(A^{-1}B^{-1}) = AIA^{-1} = AA^{-1} = I$\n",
    "\n",
    "An important result forms from this implicit derivation in that for $n$ number of matrices, the inverse of their product becomes:\n",
    "\n",
    "$(ABC...n)^{-1} = (n^{-1} ... C^{-1}B^{-1}A^{-1})$"
   ]
  },
  {
   "cell_type": "markdown",
   "metadata": {},
   "source": [
    "# Left off on page 97 of textbook"
   ]
  },
  {
   "cell_type": "markdown",
   "metadata": {},
   "source": []
  }
 ],
 "metadata": {
  "kernelspec": {
   "display_name": "Julia 1.4.1",
   "language": "julia",
   "name": "julia-1.4"
  },
  "language_info": {
   "file_extension": ".jl",
   "mimetype": "application/julia",
   "name": "julia",
   "version": "1.4.1"
  }
 },
 "nbformat": 4,
 "nbformat_minor": 4
}
