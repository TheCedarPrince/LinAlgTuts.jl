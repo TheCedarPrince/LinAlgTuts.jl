{
 "cells": [
  {
   "cell_type": "code",
   "execution_count": 1,
   "metadata": {
    "jupyter": {
     "source_hidden": true
    }
   },
   "outputs": [],
   "source": [
    "using Plots\n",
    "using LaTeXStrings"
   ]
  },
  {
   "cell_type": "code",
   "execution_count": 2,
   "metadata": {
    "jupyter": {
     "source_hidden": true
    }
   },
   "outputs": [],
   "source": [
    "y(x, x_1, y_1, x_2, y_2) = x .* (y_2 - y_1) ./ (x_2 - x_1) .- x_1 .* (y_2 - y_1) ./ (x_2 - x_1) .+ y_1;"
   ]
  },
  {
   "cell_type": "markdown",
   "metadata": {},
   "source": [
    "# **Section 2.5: Inverse Matrices**\n",
    "\n",
    "> **Description:** An overview of what an inverse matrix is, how to calculate it, and how to identify them. \\\n",
    "> **Author:** Jacob S. Zelko \\\n",
    "> **Date:** July 20th, 2020 \n",
    "\n",
    "---"
   ]
  },
  {
   "cell_type": "markdown",
   "metadata": {},
   "source": [
    "## What Is An Inverse Matrix?\n",
    "\n",
    "Let $A$ be a square matrix. An inverse matrix, $A^{-1}$ can loosely be thought of as a matrix which _undoes_ whatever $A$ does. Before addressing an inverse matrix, it is useful to re-examine what an inverse is.\n",
    "\n",
    "If given a scalar value $\\alpha$, then the inverse of that value is $\\frac{1}{\\alpha}$. If one were to multiply $\\alpha$ by its inverse $\\frac{1}{\\alpha}$, then that product is $1$:\n",
    "\n",
    "$\\alpha \\cdot \\frac{1}{\\alpha} = 1$\n",
    "\n",
    "An inverse matrix is really no different. Rather, instead of their product being the scalar value $1$, it is an identity matrix (see [Section 2-3](tutorial_2-3.ipynb) on identity matrices). \n",
    "\n",
    "$A^{1}\\cdot A = I$ and $A \\cdot A^{-1} = I$\n",
    "\n",
    "However, there is a fundamental truth underlying matrices and inverses:\n",
    "\n",
    "> **Not all matrices have inverses.**"
   ]
  },
  {
   "cell_type": "markdown",
   "metadata": {},
   "source": [
    "## Requirements for an Inverse Matrix to Exist\n",
    "\n",
    "Given a square matrix $A$ (i.e. $n$ columns and $n$ rows), the following terms apply to determine the existence of an inverse matrix:\n",
    "\n",
    "1. An inverse for $A$ exists if and only if matrix elimination on $A$ produces $n$ pivots\n",
    "\n",
    "2. $A$ cannot have two different inverses. \n",
    "\n",
    "3. If there exists $A^{1}$ for $A$, then the only solution to $Ax = b$ is $x = A^{-1}b$.\n",
    "\n",
    "4. If there exists $A^{-1}$, then $Ax = 0$ can only have the zero solution $x = A^{-1}0 = 0$\n",
    "\n",
    "5. A $2 \\times 2$ matrix is invertible if and only if $ad - bc$ is non-zero in the equation:\n",
    "\n",
    "$\\left[\n",
    "\\begin{array}{cc}\n",
    "a & b \\\\\n",
    "c & d \\\\\n",
    "\\end{array}\n",
    "\\right]^{-1} =\n",
    "\\frac{1}{ad - bc}\n",
    "\\left[\n",
    "\\begin{array}{cc}\n",
    "d & -b \\\\\n",
    "-c & a \\\\\n",
    "\\end{array}\n",
    "\\right]$"
   ]
  },
  {
   "cell_type": "markdown",
   "metadata": {},
   "source": [
    "## Finding the Inverse of a Matrix Product\n",
    "\n",
    "Given two square matrices of the same size, $A$ and $B$, one can calculate the inverse of its product. However, the following criteria must be met:\n",
    "\n",
    "1. $A$ and $B$ must be separately invertible\n",
    "2. $A$ and $B$ must be the same size\n",
    "\n",
    "Based on these criteria, the inverse of a matrix product can be defined as this:\n",
    "\n",
    "$(AB)^{-1} = B^{-1}A^{-1}$\n",
    "\n",
    "The reason for this can be seen implicitly from the problem:\n",
    "\n",
    "$(AB)(A^{-1}B^{-1}) = AIA^{-1} = AA^{-1} = I$\n",
    "\n",
    "An important result forms from this implicit derivation in that for $n$ number of matrices, the inverse of their product becomes:\n",
    "\n",
    "$(ABC...n)^{-1} = (n^{-1} ... C^{-1}B^{-1}A^{-1})$"
   ]
  },
  {
   "cell_type": "markdown",
   "metadata": {},
   "source": [
    "## Gauss-Jordan Elimination to Find the Inverse\n",
    "\n",
    "The Gauss-Jordan Elimination Method computes the inverse of an invertible matrix $A$ by solving all equations of a linear system simultaneously. The method can be succinctly written as:\n",
    "\n",
    "> Multiply $[ A \\ I ]$ by $A^{-1}$ to get $[I \\ A^{-1}]$\n",
    "\n",
    "where $A$ has the same dimensions of the square identity matrix $I$. The elimination scheme is best described with the explanation given in the following example section."
   ]
  },
  {
   "cell_type": "markdown",
   "metadata": {},
   "source": [
    "### Gauss-Jordan Elimination Example\n",
    "\n",
    "Given the following square, invertible matrix:\n",
    "\n",
    "$A = \\left[\n",
    "\\begin{array}{ccc}\n",
    "2 & -1 & 0 \\\\\n",
    "-1 & 2 & -1 \\\\\n",
    "0 & -1 & 2 \\\\\n",
    "\\end{array}\n",
    "\\right]$\n",
    "\n",
    "We find $A$'s inverse by merging $A$ with its corresponding identity matrix:\n",
    "\n",
    "$I = \\left[\n",
    "\\begin{array}{ccc}\n",
    "1 & 0 & 0 \\\\\n",
    "0 & 1 & 0 \\\\\n",
    "0 & 0 & 1 \\\\\n",
    "\\end{array}\n",
    "\\right]$\n",
    "\n",
    "such that one produces:\n",
    "\n",
    "$[A \\ I] = \\left[\\begin{array}{rrrrrr}2 & -1 & 0 & 1 & 0 & 0 \\\\ \n",
    "-1 & 2 & -1 & 0 & 1 & 0 \\\\ \n",
    "0 & -1 & 2 & 0 & 0 & 1\\end{array}\\right]$\n",
    "\n",
    "The goal of Gauss-Jordan elimination is to use elimation to convert $A$ to $I$. The segment of the block matrix $[A \\ I]$ that was $I$ then becomes $A^{-1}$. Following along this goal, we perform the following reductions:\n",
    "\n",
    "1. Multiply row 1 by $\\frac{1}{2}$ and add row 2 to it\n",
    "\n",
    "$\\left[\\begin{array}{rrrrr}2 & -1 & 0 & 1 & 0 & 0 \\\\ \n",
    "0 & \\frac{3}{2} & -1 & \\frac{1}{2} & 1 & 0 \\\\ \n",
    "0 & -1 & 2 & 0 & 0 & 1\\end{array}\\right]$\n",
    "\n",
    "2. Multiply row 2 by $\\frac{2}{3}$ and add row 3 to it\n",
    "\n",
    "$\\left[\\begin{array}{rrrrrr}2 & -1 & 0 & 1 & 0 & 0 \\\\ \n",
    "0 & \\frac{3}{2} & -1 & \\frac{1}{2} & 1 & 0 \\\\ \n",
    "0 & 0 & \\frac{4}{3} & \\frac{1}{3} & \\frac{2}{3} & 1\\end{array}\\right]$\n",
    "\n",
    "3. Multiply row 3 by $\\frac{3}{4}$ and add row 2 to it\n",
    "\n",
    "$\\left[\\begin{array}{llllll}2 & -1 & 0 & 1 & 0 & 0 \\\\ \n",
    "0 & \\frac{3}{2} & 0 & \\frac{3}{4} & \\frac{3}{2} & \\frac{3}{4} \\\\ \n",
    "0 & 0 & \\frac{4}{3} & \\frac{1}{3} & \\frac{2}{3} & 1\\end{array}\\right]$\n",
    "\n",
    "4. Multiply row 2 by $\\frac{2}{3}$ and add row 1 to it\n",
    "\n",
    "$\\left[\\begin{array}{llllll}2 & 0 & 0 & \\frac{3}{2} & 1 & \\frac{1}{2} \\\\ \n",
    "0 & \\frac{3}{2} & 0 & \\frac{3}{4} & \\frac{3}{2} & \\frac{3}{4} \\\\ \n",
    "0 & 0 & \\frac{4}{3} & \\frac{1}{3} & \\frac{2}{3} & 1\\end{array}\\right]$\n",
    "\n",
    "5. Divide each row by its respective pivot\n",
    "\n",
    "$\\left[\\begin{array}{cccccc}1 & 0 & 0 & \\frac{3}{4} & \\frac{1}{2} & \\frac{1}{4} \\\\\n",
    "0 & 1 & 0 & \\frac{1}{2} & 1 & \\frac{1}{2} \\\\\n",
    "0 & 0 & 1 & \\frac{1}{4} & \\frac{1}{2} & \\frac{3}{4}\\end{array}\\right]\n",
    "=\\left[\\begin{array}{cc}I & A^{-1}\\end{array}\\right]$"
   ]
  },
  {
   "cell_type": "markdown",
   "metadata": {},
   "source": [
    "## Quickly Recognizing an Invertible Matrix\n",
    "\n",
    "A diagonally dominant matrix is invertible. What this means is that each element across a diagonal, $a_{i, i}$, is greater than the sum of the other elements in that row. Put succinctly,\n",
    "\n",
    ">  $|a_{i, i}| > \\sum_{j \\neq i}$\n",
    "\n",
    "### Examples\n",
    "\n",
    "#### A Diagonally Determinant Matrix\n",
    "\n",
    "The following matrix,\n",
    "\n",
    "$A = \\left[\n",
    "\\begin{array}{ccc}\n",
    "3 & 1 & 1 \\\\\n",
    "1 & 3 & 1 \\\\\n",
    "1 & 2 & 4 \\\\\n",
    "\\end{array}\n",
    "\\right]$ \n",
    "\n",
    "is diagonally dominant. The reason being is that $3$ is greater than the sum of the other elements in that row (i.e. $1 + 1 = 2 < 3$ and $1 + 2 = 3 < 4$).\n",
    "\n",
    "#### A Non-Diagonally Determinant Matrix\n",
    "\n",
    "The following matrix,\n",
    "\n",
    "$B = \\left[\n",
    "\\begin{array}{ccc}\n",
    "2 & 1 & 1 \\\\\n",
    "1 & 2 & 1 \\\\\n",
    "1 & 1 & 3 \\\\\n",
    "\\end{array}\n",
    "\\right]$\n",
    "\n",
    "is not diagonally dominant. Although $b_{31} == 3 > 1 + 1$, it can be shown that $b_{11} == b_{21} == 2 <= \\sum$ of the other elements in their corresponding rows."
   ]
  }
 ],
 "metadata": {
  "kernelspec": {
   "display_name": "Julia 1.4.1",
   "language": "julia",
   "name": "julia-1.4"
  },
  "language_info": {
   "file_extension": ".jl",
   "mimetype": "application/julia",
   "name": "julia",
   "version": "1.4.1"
  }
 },
 "nbformat": 4,
 "nbformat_minor": 4
}
